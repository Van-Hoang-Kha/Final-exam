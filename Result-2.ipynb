{
 "cells": [
  {
   "cell_type": "code",
   "execution_count": 14,
   "metadata": {},
   "outputs": [],
   "source": [
    "import pandas as pd\n",
    "import numpy as np\n",
    "df = pd.read_csv(\"text.csv\")\n",
    "del df[\"Unnamed: 0\"]"
   ]
  },
  {
   "cell_type": "code",
   "execution_count": 15,
   "metadata": {},
   "outputs": [
    {
     "data": {
      "text/html": [
       "<div>\n",
       "<style scoped>\n",
       "    .dataframe tbody tr th:only-of-type {\n",
       "        vertical-align: middle;\n",
       "    }\n",
       "\n",
       "    .dataframe tbody tr th {\n",
       "        vertical-align: top;\n",
       "    }\n",
       "\n",
       "    .dataframe thead th {\n",
       "        text-align: right;\n",
       "    }\n",
       "</style>\n",
       "<table border=\"1\" class=\"dataframe\">\n",
       "  <thead>\n",
       "    <tr style=\"text-align: right;\">\n",
       "      <th></th>\n",
       "      <th>post_id</th>\n",
       "      <th>text</th>\n",
       "      <th>post_text</th>\n",
       "      <th>shared_text</th>\n",
       "      <th>time</th>\n",
       "      <th>image</th>\n",
       "      <th>likes</th>\n",
       "      <th>comments</th>\n",
       "      <th>shares</th>\n",
       "      <th>post_url</th>\n",
       "      <th>link</th>\n",
       "    </tr>\n",
       "  </thead>\n",
       "  <tbody>\n",
       "    <tr>\n",
       "      <th>0</th>\n",
       "      <td>3.584168e+15</td>\n",
       "      <td>Post này là nơi để các bạn thỏa sức nêu ra ý k...</td>\n",
       "      <td>Post này là nơi để các bạn thỏa sức nêu ra ý k...</td>\n",
       "      <td>NaN</td>\n",
       "      <td>1.617378e+09</td>\n",
       "      <td>https://scontent-sin6-4.xx.fbcdn.net/v/t1.6435...</td>\n",
       "      <td>91</td>\n",
       "      <td>2</td>\n",
       "      <td>0</td>\n",
       "      <td>https://m.facebook.com/story.php?story_fbid=35...</td>\n",
       "      <td>NaN</td>\n",
       "    </tr>\n",
       "    <tr>\n",
       "      <th>1</th>\n",
       "      <td>3.830260e+15</td>\n",
       "      <td>#8236_PCs\\n\"Em chào các anh chị sv của trường ...</td>\n",
       "      <td>#8236_PCs\\n\"Em chào các anh chị sv của trường ...</td>\n",
       "      <td>NaN</td>\n",
       "      <td>1.624980e+09</td>\n",
       "      <td>NaN</td>\n",
       "      <td>53</td>\n",
       "      <td>15</td>\n",
       "      <td>0</td>\n",
       "      <td>https://m.facebook.com/story.php?story_fbid=38...</td>\n",
       "      <td>https://goo.gl/9VKhVU</td>\n",
       "    </tr>\n",
       "    <tr>\n",
       "      <th>2</th>\n",
       "      <td>3.826158e+15</td>\n",
       "      <td>#8235_PCs\\n#Chuyện_tình_cảm\\n\"\"Chắc gì là con ...</td>\n",
       "      <td>#8235_PCs\\n#Chuyện_tình_cảm\\n\"\"Chắc gì là con ...</td>\n",
       "      <td>NaN</td>\n",
       "      <td>1.624849e+09</td>\n",
       "      <td>NaN</td>\n",
       "      <td>61</td>\n",
       "      <td>13</td>\n",
       "      <td>0</td>\n",
       "      <td>https://m.facebook.com/story.php?story_fbid=38...</td>\n",
       "      <td>https://goo.gl/9VKhVU</td>\n",
       "    </tr>\n",
       "    <tr>\n",
       "      <th>3</th>\n",
       "      <td>3.815595e+15</td>\n",
       "      <td>#8234_PCs\\n\"Em chào anh/chị , năm nay em 2k3 c...</td>\n",
       "      <td>#8234_PCs\\n\"Em chào anh/chị , năm nay em 2k3 c...</td>\n",
       "      <td>NaN</td>\n",
       "      <td>1.624533e+09</td>\n",
       "      <td>NaN</td>\n",
       "      <td>75</td>\n",
       "      <td>22</td>\n",
       "      <td>0</td>\n",
       "      <td>https://m.facebook.com/story.php?story_fbid=38...</td>\n",
       "      <td>https://goo.gl/9VKhVU</td>\n",
       "    </tr>\n",
       "    <tr>\n",
       "      <th>4</th>\n",
       "      <td>3.813705e+15</td>\n",
       "      <td>#8233_PCs\\n1. \"Cho mình hỏi xíu, đã có danh sá...</td>\n",
       "      <td>#8233_PCs\\n1. \"Cho mình hỏi xíu, đã có danh sá...</td>\n",
       "      <td>NaN</td>\n",
       "      <td>1.624453e+09</td>\n",
       "      <td>NaN</td>\n",
       "      <td>61</td>\n",
       "      <td>12</td>\n",
       "      <td>0</td>\n",
       "      <td>https://m.facebook.com/story.php?story_fbid=38...</td>\n",
       "      <td>https://goo.gl/9VKhVU</td>\n",
       "    </tr>\n",
       "    <tr>\n",
       "      <th>...</th>\n",
       "      <td>...</td>\n",
       "      <td>...</td>\n",
       "      <td>...</td>\n",
       "      <td>...</td>\n",
       "      <td>...</td>\n",
       "      <td>...</td>\n",
       "      <td>...</td>\n",
       "      <td>...</td>\n",
       "      <td>...</td>\n",
       "      <td>...</td>\n",
       "      <td>...</td>\n",
       "    </tr>\n",
       "    <tr>\n",
       "      <th>2344</th>\n",
       "      <td>1.953966e+15</td>\n",
       "      <td>#5887_PCs\\n1. \"Hello World\"\\n2. \"Mons............</td>\n",
       "      <td>#5887_PCs\\n1. \"Hello World\"\\n2. \"Mons............</td>\n",
       "      <td>NaN</td>\n",
       "      <td>1.555768e+09</td>\n",
       "      <td>https://scontent-sin6-3.xx.fbcdn.net/v/t1.6435...</td>\n",
       "      <td>28</td>\n",
       "      <td>7</td>\n",
       "      <td>0</td>\n",
       "      <td>https://m.facebook.com/story.php?story_fbid=19...</td>\n",
       "      <td>https://goo.gl/9VKhVU</td>\n",
       "    </tr>\n",
       "    <tr>\n",
       "      <th>2345</th>\n",
       "      <td>1.953903e+15</td>\n",
       "      <td>#5886_PCs\\n[GÓC MẤT NGỦ]\\n1. 1 giờ sáng hơn...</td>\n",
       "      <td>#5886_PCs\\n[GÓC MẤT NGỦ]\\n1. 1 giờ sáng hơn...</td>\n",
       "      <td>NaN</td>\n",
       "      <td>1.555765e+09</td>\n",
       "      <td>https://scontent-sin6-1.xx.fbcdn.net/v/t1.6435...</td>\n",
       "      <td>36</td>\n",
       "      <td>12</td>\n",
       "      <td>0</td>\n",
       "      <td>https://m.facebook.com/story.php?story_fbid=19...</td>\n",
       "      <td>https://goo.gl/9VKhVU</td>\n",
       "    </tr>\n",
       "    <tr>\n",
       "      <th>2346</th>\n",
       "      <td>1.953850e+15</td>\n",
       "      <td>#5885_PCs\\n1. \"Góc cảnh giác !!!\\nMình bị cướp...</td>\n",
       "      <td>#5885_PCs\\n1. \"Góc cảnh giác !!!\\nMình bị cướp...</td>\n",
       "      <td>NaN</td>\n",
       "      <td>1.555762e+09</td>\n",
       "      <td>https://scontent.fvca1-1.fna.fbcdn.net/v/t1.64...</td>\n",
       "      <td>41</td>\n",
       "      <td>9</td>\n",
       "      <td>0</td>\n",
       "      <td>https://m.facebook.com/story.php?story_fbid=19...</td>\n",
       "      <td>https://goo.gl/9VKhVU</td>\n",
       "    </tr>\n",
       "    <tr>\n",
       "      <th>2347</th>\n",
       "      <td>1.952386e+15</td>\n",
       "      <td>#1111_M\\nBạn thường làm gì để bản thân b...</td>\n",
       "      <td>#1111_M\\nBạn thường làm gì để bản thân b...</td>\n",
       "      <td>NaN</td>\n",
       "      <td>1.555690e+09</td>\n",
       "      <td>NaN</td>\n",
       "      <td>45</td>\n",
       "      <td>27</td>\n",
       "      <td>0</td>\n",
       "      <td>https://m.facebook.com/story.php?story_fbid=19...</td>\n",
       "      <td>https://goo.gl/9VKhVU</td>\n",
       "    </tr>\n",
       "    <tr>\n",
       "      <th>2348</th>\n",
       "      <td>1.952327e+15</td>\n",
       "      <td>#5883_PCs\\n1. Sài Gòn nắng nóng mồ hôi chảy nh...</td>\n",
       "      <td>#5883_PCs\\n1. Sài Gòn nắng nóng mồ hôi chảy nh...</td>\n",
       "      <td>NaN</td>\n",
       "      <td>1.555688e+09</td>\n",
       "      <td>NaN</td>\n",
       "      <td>29</td>\n",
       "      <td>12</td>\n",
       "      <td>0</td>\n",
       "      <td>https://m.facebook.com/story.php?story_fbid=19...</td>\n",
       "      <td>https://goo.gl/9VKhVU</td>\n",
       "    </tr>\n",
       "  </tbody>\n",
       "</table>\n",
       "<p>2349 rows × 11 columns</p>\n",
       "</div>"
      ],
      "text/plain": [
       "           post_id                                               text  \\\n",
       "0     3.584168e+15  Post này là nơi để các bạn thỏa sức nêu ra ý k...   \n",
       "1     3.830260e+15  #8236_PCs\\n\"Em chào các anh chị sv của trường ...   \n",
       "2     3.826158e+15  #8235_PCs\\n#Chuyện_tình_cảm\\n\"\"Chắc gì là con ...   \n",
       "3     3.815595e+15  #8234_PCs\\n\"Em chào anh/chị , năm nay em 2k3 c...   \n",
       "4     3.813705e+15  #8233_PCs\\n1. \"Cho mình hỏi xíu, đã có danh sá...   \n",
       "...            ...                                                ...   \n",
       "2344  1.953966e+15  #5887_PCs\\n1. \"Hello World\"\\n2. \"Mons............   \n",
       "2345  1.953903e+15  #5886_PCs\\n[GÓC MẤT NGỦ]\\n1. 1 giờ sáng hơn...   \n",
       "2346  1.953850e+15  #5885_PCs\\n1. \"Góc cảnh giác !!!\\nMình bị cướp...   \n",
       "2347  1.952386e+15  #1111_M\\nBạn thường làm gì để bản thân b...   \n",
       "2348  1.952327e+15  #5883_PCs\\n1. Sài Gòn nắng nóng mồ hôi chảy nh...   \n",
       "\n",
       "                                              post_text shared_text  \\\n",
       "0     Post này là nơi để các bạn thỏa sức nêu ra ý k...         NaN   \n",
       "1     #8236_PCs\\n\"Em chào các anh chị sv của trường ...         NaN   \n",
       "2     #8235_PCs\\n#Chuyện_tình_cảm\\n\"\"Chắc gì là con ...         NaN   \n",
       "3     #8234_PCs\\n\"Em chào anh/chị , năm nay em 2k3 c...         NaN   \n",
       "4     #8233_PCs\\n1. \"Cho mình hỏi xíu, đã có danh sá...         NaN   \n",
       "...                                                 ...         ...   \n",
       "2344  #5887_PCs\\n1. \"Hello World\"\\n2. \"Mons............         NaN   \n",
       "2345  #5886_PCs\\n[GÓC MẤT NGỦ]\\n1. 1 giờ sáng hơn...         NaN   \n",
       "2346  #5885_PCs\\n1. \"Góc cảnh giác !!!\\nMình bị cướp...         NaN   \n",
       "2347  #1111_M\\nBạn thường làm gì để bản thân b...         NaN   \n",
       "2348  #5883_PCs\\n1. Sài Gòn nắng nóng mồ hôi chảy nh...         NaN   \n",
       "\n",
       "              time                                              image  likes  \\\n",
       "0     1.617378e+09  https://scontent-sin6-4.xx.fbcdn.net/v/t1.6435...     91   \n",
       "1     1.624980e+09                                                NaN     53   \n",
       "2     1.624849e+09                                                NaN     61   \n",
       "3     1.624533e+09                                                NaN     75   \n",
       "4     1.624453e+09                                                NaN     61   \n",
       "...            ...                                                ...    ...   \n",
       "2344  1.555768e+09  https://scontent-sin6-3.xx.fbcdn.net/v/t1.6435...     28   \n",
       "2345  1.555765e+09  https://scontent-sin6-1.xx.fbcdn.net/v/t1.6435...     36   \n",
       "2346  1.555762e+09  https://scontent.fvca1-1.fna.fbcdn.net/v/t1.64...     41   \n",
       "2347  1.555690e+09                                                NaN     45   \n",
       "2348  1.555688e+09                                                NaN     29   \n",
       "\n",
       "      comments  shares                                           post_url  \\\n",
       "0            2       0  https://m.facebook.com/story.php?story_fbid=35...   \n",
       "1           15       0  https://m.facebook.com/story.php?story_fbid=38...   \n",
       "2           13       0  https://m.facebook.com/story.php?story_fbid=38...   \n",
       "3           22       0  https://m.facebook.com/story.php?story_fbid=38...   \n",
       "4           12       0  https://m.facebook.com/story.php?story_fbid=38...   \n",
       "...        ...     ...                                                ...   \n",
       "2344         7       0  https://m.facebook.com/story.php?story_fbid=19...   \n",
       "2345        12       0  https://m.facebook.com/story.php?story_fbid=19...   \n",
       "2346         9       0  https://m.facebook.com/story.php?story_fbid=19...   \n",
       "2347        27       0  https://m.facebook.com/story.php?story_fbid=19...   \n",
       "2348        12       0  https://m.facebook.com/story.php?story_fbid=19...   \n",
       "\n",
       "                       link  \n",
       "0                       NaN  \n",
       "1     https://goo.gl/9VKhVU  \n",
       "2     https://goo.gl/9VKhVU  \n",
       "3     https://goo.gl/9VKhVU  \n",
       "4     https://goo.gl/9VKhVU  \n",
       "...                     ...  \n",
       "2344  https://goo.gl/9VKhVU  \n",
       "2345  https://goo.gl/9VKhVU  \n",
       "2346  https://goo.gl/9VKhVU  \n",
       "2347  https://goo.gl/9VKhVU  \n",
       "2348  https://goo.gl/9VKhVU  \n",
       "\n",
       "[2349 rows x 11 columns]"
      ]
     },
     "execution_count": 15,
     "metadata": {},
     "output_type": "execute_result"
    }
   ],
   "source": [
    "df"
   ]
  },
  {
   "cell_type": "code",
   "execution_count": 16,
   "metadata": {},
   "outputs": [],
   "source": [
    "from underthesea import sentiment\n",
    "from underthesea import classify\n",
    "from underthesea import sent_tokenize\n",
    "from underthesea import word_tokenize"
   ]
  },
  {
   "cell_type": "code",
   "execution_count": 28,
   "metadata": {},
   "outputs": [
    {
     "name": "stdout",
     "output_type": "stream",
     "text": [
      "Chào mọi người,\n",
      "Hôm qua 21/4/2021 đã xảy ra sự cố trong 1 bài post, admin trong lúc làm nhiệm vụ đã quên che tên nhân vật được nhắc tới, gây ra khá nhiều rắc rối cho bạn ấy. Đây là lỗi cực kỳ nghiêm trọng của tụi mình, thành thật xin lỗi bạn Đ rất nhiều.\n",
      "Nhân đây, admin cũng xin lỗi mọi người vì tất cả. Chân thành cảm ơn mọi người đã theo dõi page trong suốt thời gian qua. Tụi mình sẽ cố gắng để page ngày càng phát triển hơn, kiểm duyệt nội dung chặt chẽ hơn.\n",
      "Cảm ơn và chúc mọi người ngủ ngon!\n",
      "#Moon #Min #V #Bot\n"
     ]
    }
   ],
   "source": [
    "text = df[\"post_text\"][126]\n",
    "print(text)\n"
   ]
  },
  {
   "cell_type": "code",
   "execution_count": 29,
   "metadata": {},
   "outputs": [
    {
     "data": {
      "text/plain": [
       "'positive'"
      ]
     },
     "execution_count": 29,
     "metadata": {},
     "output_type": "execute_result"
    }
   ],
   "source": [
    "sentiment(text)"
   ]
  },
  {
   "cell_type": "code",
   "execution_count": 30,
   "metadata": {},
   "outputs": [
    {
     "data": {
      "text/plain": [
       "['vi_tinh']"
      ]
     },
     "execution_count": 30,
     "metadata": {},
     "output_type": "execute_result"
    }
   ],
   "source": [
    "classify(text)"
   ]
  },
  {
   "cell_type": "code",
   "execution_count": null,
   "metadata": {},
   "outputs": [],
   "source": [
    "# sent_tokenize(text)"
   ]
  },
  {
   "cell_type": "code",
   "execution_count": null,
   "metadata": {},
   "outputs": [],
   "source": [
    "# word_tokenize(text)"
   ]
  },
  {
   "cell_type": "code",
   "execution_count": 497,
   "metadata": {},
   "outputs": [],
   "source": [
    "# word_tokenize(text, format=\"text\")"
   ]
  },
  {
   "cell_type": "code",
   "execution_count": 173,
   "metadata": {},
   "outputs": [],
   "source": []
  },
  {
   "cell_type": "code",
   "execution_count": 174,
   "metadata": {},
   "outputs": [],
   "source": []
  },
  {
   "cell_type": "code",
   "execution_count": null,
   "metadata": {},
   "outputs": [],
   "source": []
  },
  {
   "cell_type": "code",
   "execution_count": 318,
   "metadata": {},
   "outputs": [],
   "source": [
    "#neg: 9,15,16,25,32,40,41,74,77,135"
   ]
  },
  {
   "cell_type": "code",
   "execution_count": 416,
   "metadata": {},
   "outputs": [],
   "source": [
    "#pos: 75,98,110,126"
   ]
  },
  {
   "cell_type": "code",
   "execution_count": null,
   "metadata": {},
   "outputs": [],
   "source": [
    "\n",
    "    "
   ]
  },
  {
   "cell_type": "code",
   "execution_count": null,
   "metadata": {},
   "outputs": [],
   "source": []
  }
 ],
 "metadata": {
  "kernelspec": {
   "display_name": "Python 3",
   "language": "python",
   "name": "python3"
  },
  "language_info": {
   "codemirror_mode": {
    "name": "ipython",
    "version": 3
   },
   "file_extension": ".py",
   "mimetype": "text/x-python",
   "name": "python",
   "nbconvert_exporter": "python",
   "pygments_lexer": "ipython3",
   "version": "3.8.5"
  }
 },
 "nbformat": 4,
 "nbformat_minor": 4
}
