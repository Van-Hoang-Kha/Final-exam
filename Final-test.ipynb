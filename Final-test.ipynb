{
 "cells": [
  {
   "cell_type": "code",
   "execution_count": 135,
   "metadata": {},
   "outputs": [],
   "source": [
    "# Bài 1:\n",
    "\n",
    "def char(string):\n",
    "#     Tạo list nguyên âm viết thường\n",
    "    list = [\"a\",\"ạ\",\"á\",\"à\",\"ả\",\"ã\",\"ă\",\"ắ\",\"ằ\",\"ẳ\",\"ẵ\",\"ặ\",\"â\",\"ấ\",\"ầ\",\"ậ\",\"ẩ\",\"ẫ\",\"e\",\"é\",\"è\",\"ẻ\",\"ẽ\",\"ẹ\",\"ê\",\"ế\",\"ề\",\"ệ\",\"ể\",\"ễ\",\"i\",\"í\",\"ì\",\"ỉ\",\"ĩ\",\"ị\",\"o\",\"ỏ\",\"ò\",\"ó\",\"ọ\",\"õ\",\"ô\",\"ồ\",\"ố\",\"ộ\",\"ổ\",\"ỗ\",\"ơ\",\"ớ\",\"ờ\",\"ợ\",\"ở\",\"ỡ\",\"u\",\"ú\",\"ù\",\"ủ\",\"ũ\",\"ụ\",\"ư\",\"ứ\",\"ừ\",\"ử\",\"ữ\",\"ự\",\"y\",\"ý\",\"ỳ\",\"ỵ\",\"ỷ\",\"ỹ\"]\n",
    "#     Tạo list nguyên âm viết hoa\n",
    "    list0 = [\"A\",\"Á\",\"À\",\"Ả\",\"Ã\",\"Ạ\",\"Ă\",\"Ắ\",\"Ằ\",\"Ẳ\",\"Ẵ\",\"Ặ\",\"Â\",\"Ấ\",\"Ầ\",\"Ẩ\",\"Ẫ\",\"Ậ\",\"E\",\"É\",\"È\",\"Ẹ\",\"Ẻ\",\"Ẽ\",\"Ê\",\"Ế\",\"Ề\",\"Ể\",\"Ễ\",\"Ệ\",'I',\"Í\",\"Ì\",\"Ỉ\",\"Ĩ\",\"Ị\",\"O\",\"Ỏ\",\"Ó\",\"Ò\",\"Õ\",\"Ọ\",\"Ô\",\"Ố\",\"Ồ\",\"Ỗ\",\"Ổ\",\"Ộ\",\"Ơ\",\"Ớ\",\"Ờ\",\"Ợ\",\"Ở\",\"Ỡ\",\"U\",\"Ú\",\"Ù\",\"Ụ\",\"Ủ\",\"Ũ\",\"Ư\",\"Ứ\",\"Ừ\",\"Ự\",\"Ử\",\"Ữ\",\"Y\",\"Ý\",\"Ỳ\",\"Ỷ\",\"Ỹ\",\"Ỵ\"]\n",
    "    for i in range(len(string)):\n",
    "#         Nếu ký tự thuộc nguyên âm viết thường sẽ chuyển thành viết hoa:\n",
    "        if string[i] in list:\n",
    "            str = string[i].upper()\n",
    "            string =  string.replace(string[i],str)\n",
    "# Nếu ký tự thuộc nguyên âm viết hoa sẽ chuyển thành viết thường:\n",
    "        elif string[i] in list0:\n",
    "            str1 = string[i].lower()\n",
    "            string = string.replace(string[i],str1)\n",
    "    return string\n",
    "   "
   ]
  },
  {
   "cell_type": "code",
   "execution_count": 136,
   "metadata": {},
   "outputs": [
    {
     "data": {
      "text/plain": [
       "'ThEO hỌc ngÀnh KỸ thUẬt điỆn tỬ- viỄn thÔng '"
      ]
     },
     "execution_count": 136,
     "metadata": {},
     "output_type": "execute_result"
    }
   ],
   "source": [
    "# Test case:\n",
    "string  = \"Theo học ngành Kỹ thuật điện tử- viễn thông \"\n",
    "char(string)"
   ]
  },
  {
   "cell_type": "code",
   "execution_count": 137,
   "metadata": {},
   "outputs": [
    {
     "name": "stdout",
     "output_type": "stream",
     "text": [
      "NgÀnh KỸ ThUẬt ĐIỆn TỬ VIỄn ThÔng\n"
     ]
    }
   ],
   "source": [
    "#Cách 2:\n",
    "def ptit(s):\n",
    "    list = \"aáàạảãAÁÀẢÃẠăẳẵắằặĂẮẰẲẴẶâấầẩẫậÂẦẤẨẪẬeéèẻẽẹEÉÈẺẼẸêếềểễệÊẾỀỂỄỆiíìịỉĩIÍÌỈĨỊoòóỏõọOÓÒỎÕỌôốồổỗộÔỐỒỔỖỘơớờởỡợƠỚỜỞỠỢuúùủũụUÚÙỦŨỤưứừửữựƯỨỪỬỮỰyýỳỷỹỵYÝỲỶỸỴ\"\n",
    "    result = []\n",
    "    for v in s:\n",
    "        if v in list:\n",
    "            if v.isupper():\n",
    "                v = v.lower()\n",
    "                result.append(v)\n",
    "            else: \n",
    "                v = v.upper()\n",
    "                result.append(v)            \n",
    "        else:\n",
    "            result.append(v)\n",
    "    return result\n",
    "#Test case\n",
    "s = \"Ngành Kỹ Thuật Điện Tử Viễn Thông\"\n",
    "str = \"\".join(ptit(s))\n",
    "print(str)\n"
   ]
  },
  {
   "cell_type": "code",
   "execution_count": 5,
   "metadata": {},
   "outputs": [
    {
     "name": "stdout",
     "output_type": "stream",
     "text": [
      "Cannot continue\n"
     ]
    },
    {
     "data": {
      "text/plain": [
       "[0, 1, 1, 0, 0]"
      ]
     },
     "execution_count": 5,
     "metadata": {},
     "output_type": "execute_result"
    }
   ],
   "source": [
    "# Bài 2: a,b là 2 số đầu tiên, n là tổng số phần tử ví dụ n = 100\n",
    "def function(a,b,n):\n",
    "    list = []\n",
    "    list.append(a)\n",
    "    list.append(b) \n",
    "    for i in range(2, n-2):\n",
    "        if i % 4 == 2:\n",
    "            list.append(list[i-1] + list[i-2])\n",
    "        elif i  % 4 == 3:\n",
    "            list.append( list[i-1] - list[i-2] )\n",
    "        elif i % 4 == 0:\n",
    "            list.append(list[i-1] * list[i-2])\n",
    "        elif i % 4 == 1 and list[i-2] !=0 :\n",
    "            list.append(list[i-1] / list[i-2])\n",
    "        else:\n",
    "            print(\"Cannot continue\")\n",
    "            break\n",
    "        \n",
    "    return list\n",
    "\n",
    "\n",
    "#Test case: \n",
    "function(0,1,100)"
   ]
  },
  {
   "cell_type": "code",
   "execution_count": 139,
   "metadata": {},
   "outputs": [],
   "source": [
    "# Bài 3:\n",
    "def selection_sort(array):\n",
    "    global iterations\n",
    "    iterations = 0\n",
    "    for i in range(len(array)):\n",
    "        minimum_index = i\n",
    "        for j in range(i + 1, len(array)):\n",
    "            iterations += 1\n",
    "            if array[minimum_index] > array[j]:\n",
    "                minimum_index = j\n",
    "        # Swap the found minimum element with \n",
    "        # the first element\n",
    "        if minimum_index != i:\n",
    "            array[i], array[minimum_index] = array[minimum_index], array[i]\n",
    "    return array"
   ]
  },
  {
   "cell_type": "code",
   "execution_count": 140,
   "metadata": {},
   "outputs": [
    {
     "data": {
      "text/plain": [
       "[1, 2, 2, 3, 4, 5, 7, 32, 84]"
      ]
     },
     "execution_count": 140,
     "metadata": {},
     "output_type": "execute_result"
    }
   ],
   "source": [
    "array = [2,1,4,2,5,3,7,84,32]\n",
    "\n",
    "selection_sort(array)"
   ]
  },
  {
   "cell_type": "code",
   "execution_count": 141,
   "metadata": {},
   "outputs": [],
   "source": [
    "# Bài 4:\n",
    "\n",
    "def selection_sort(array):\n",
    "    global iterations\n",
    "    iterations = 0\n",
    "    for i in range(len(array)):\n",
    "        minimum_index = i\n",
    "        for j in range(i + 1, len(array)):\n",
    "            iterations += 1\n",
    "            if array[minimum_index] < array[j]:\n",
    "                minimum_index = j\n",
    "        \n",
    "        # Swap the found minimum element with \n",
    "        # the first element\n",
    "        if minimum_index != i:\n",
    "            array[i], array[minimum_index] = array[minimum_index], array[i]\n",
    "    return array"
   ]
  },
  {
   "cell_type": "code",
   "execution_count": 142,
   "metadata": {},
   "outputs": [
    {
     "data": {
      "text/plain": [
       "[84, 32, 7, 5, 4, 3, 2, 2, 1]"
      ]
     },
     "execution_count": 142,
     "metadata": {},
     "output_type": "execute_result"
    }
   ],
   "source": [
    "array = [2,1,4,2,5,3,7,84,32]\n",
    "\n",
    "selection_sort(array)"
   ]
  },
  {
   "cell_type": "code",
   "execution_count": 143,
   "metadata": {},
   "outputs": [],
   "source": [
    "# Bài 5\n",
    "def median(list):\n",
    "    list = sorted(list)\n",
    "    n = len(list)\n",
    "    if n % 2 == 1:\n",
    "        return list[n//2]\n",
    "    else:\n",
    "        i = n//2\n",
    "        return (list[i - 1] + list[i])/2"
   ]
  },
  {
   "cell_type": "code",
   "execution_count": 144,
   "metadata": {},
   "outputs": [
    {
     "data": {
      "text/plain": [
       "5.0"
      ]
     },
     "execution_count": 144,
     "metadata": {},
     "output_type": "execute_result"
    }
   ],
   "source": [
    "list = [2,1,4,6,6,6] \n",
    "median(list)"
   ]
  },
  {
   "cell_type": "code",
   "execution_count": 145,
   "metadata": {},
   "outputs": [],
   "source": [
    "# list = [[2,4],[3,4]]\n",
    "# list[1][1]"
   ]
  },
  {
   "cell_type": "code",
   "execution_count": 146,
   "metadata": {},
   "outputs": [
    {
     "data": {
      "text/plain": [
       "{'Các điểm gần điểm A': [[2, 3], [0, 6], [0, 0]],\n",
       " 'Các điểm gần điểm B': [[7, 8], [15, 20], [30, 15]]}"
      ]
     },
     "execution_count": 146,
     "metadata": {},
     "output_type": "execute_result"
    }
   ],
   "source": [
    "# Bài 5:\n",
    "import math\n",
    "def dist(A,B,list):\n",
    "    values_A = []\n",
    "    values_B = []\n",
    "    for i in range(len(list)):\n",
    "        dist_A = math.sqrt((A[0]-list[i][0])*(A[0]-list[i][0]) + (A[1]-list[i][1])*(A[1]-list[i][1]))\n",
    "        dist_B = math.sqrt((B[0]-list[i][0])*(B[0]-list[i][0]) + (B[1]-list[i][1])*(B[1]-list[i][1]))\n",
    "        if dist_A > dist_B: \n",
    "            values_B.append(list[i])\n",
    "        else: \n",
    "            values_A.append(list[i])\n",
    "    dict = {\"Các điểm gần điểm A\":values_A,\"Các điểm gần điểm B\":values_B}\n",
    "    return dict\n",
    " \n",
    "#Test case:    \n",
    "A =  [1,8]\n",
    "B = [7,4]\n",
    "list = [[2,3],[0,6],[7,8],[15,20],[30,15],[0,0]]\n",
    "dist(A,B,list)\n",
    "\n"
   ]
  },
  {
   "cell_type": "code",
   "execution_count": 6,
   "metadata": {},
   "outputs": [
    {
     "name": "stdout",
     "output_type": "stream",
     "text": [
      "['https://baemin.vn./desktop/images/logo.svg', 'https://baemin.vn./desktop/images/logo-white.svg', 'https://baemin.vn./desktop/images/top-banner-image.png', 'https://baemin.vn./desktop/images/top-banner-image.png', 'https://baemin.vn./desktop/images/top-banner-image.png', 'https://baemin.vn./desktop/images/page-navigator-black-x-3.png', 'https://baemin.vn./desktop/images/baedale-hurray-01.png', 'https://baemin.vn./desktop/images/page-navigator-white-x-3.png', 'https://baemin.vn./desktop/images/baedale-cat-sherlock-01-pts.png', 'https://baemin.vn./desktop/images/page-navigator-white-x-3.png', 'https://baemin.vn./desktop/images/baedale-bike-03.png', 'https://baemin.vn./desktop/images/page-navigator-white-x-3.png', 'https://baemin.vn./desktop/images/rider-01.jpg', 'https://baemin.vn./desktop/images/rider-02.jpg', 'https://baemin.vn./desktop/images/rider-03.jpg', 'https://baemin.vn./desktop/images/rider-04.jpg', 'https://baemin.vn./desktop/images/page-navigator-black-x-3.png', 'https://baemin.vn./desktop/images/merchant.jpg', 'https://baemin.vn./desktop/images/page-navigator-white-x-3.png', 'https://baemin.vn./desktop/images/logo-woowa-brothers-vn.svg', 'https://baemin.vn./desktop/images/app-store-2.png', 'https://baemin.vn./desktop/images/play-store-2.png', 'https://baemin.vn./desktop/images/facebook-logo-button.svg', 'https://baemin.vn./desktop/images/instagram-logo.svg', 'https://baemin.vn./desktop/images/footer-image.png', 'https://baemin.vn./desktop/images/MOIT-dathongbao.png']\n"
     ]
    }
   ],
   "source": [
    "# Bài 6\n",
    "\n",
    "# Page 1:\n",
    "import requests\n",
    "from bs4 import BeautifulSoup\n",
    "\n",
    "def getdata(url):\n",
    "    r = requests.get(url)\n",
    "    return r.text\n",
    "list_01 = []\n",
    "htmldata = getdata(\"https://baemin.vn/\")\n",
    "soup = BeautifulSoup(htmldata, 'html.parser')\n",
    "for item in soup.find_all('img'):\n",
    "    src = \"https://baemin.vn\" + item['src']\n",
    "    list_01.append(src)\n",
    "print(list_01)\n",
    "\n",
    "    "
   ]
  },
  {
   "cell_type": "code",
   "execution_count": 7,
   "metadata": {},
   "outputs": [
    {
     "name": "stdout",
     "output_type": "stream",
     "text": [
      "['https://careers.baemin.vn/_next/image?url=https%3A%2F%2Fsuper-static-assets.s3.amazonaws.com%2F88dba7bf-3524-417b-9061-71195daca56f%2Fimages%2Fa602f45a-2cb9-4170-9965-5c7aad31d28a.png&w=640&q=100', 'https://careers.baemin.vn/_next/image?url=https%3A%2F%2Fsuper-static-assets.s3.amazonaws.com%2F88dba7bf-3524-417b-9061-71195daca56f%2Fimages%2F425dd3df-ee1d-4fc6-9d6e-041390307f6f.png&w=3840&q=100', 'https://careers.baemin.vn/_next/image?url=https%3A%2F%2Fsuper-static-assets.s3.amazonaws.com%2F88dba7bf-3524-417b-9061-71195daca56f%2Fimages%2Fa602f45a-2cb9-4170-9965-5c7aad31d28a.png&w=3840&q=100', 'https://careers.baemin.vn/_next/image?url=https%3A%2F%2Fsuper-static-assets.s3.amazonaws.com%2F88dba7bf-3524-417b-9061-71195daca56f%2Fimages%2F07956a56-a6f5-4595-83b4-b156959e9837.png&w=3840&q=100', 'https://careers.baemin.vn/_next/image?url=https%3A%2F%2Fsuper-static-assets.s3.amazonaws.com%2F88dba7bf-3524-417b-9061-71195daca56f%2Fimages%2F3c1bbc6b-807d-4f0b-a26d-05aa65e0060e.jpg&w=3840&q=100', 'https://careers.baemin.vn/_next/image?url=https%3A%2F%2Fsuper-static-assets.s3.amazonaws.com%2F88dba7bf-3524-417b-9061-71195daca56f%2Fimages%2F8b87c81e-316e-4fdb-bc58-033f9f6de8e7.jpg&w=3840&q=100', 'https://careers.baemin.vn/_next/image?url=https%3A%2F%2Fsuper-static-assets.s3.amazonaws.com%2F88dba7bf-3524-417b-9061-71195daca56f%2Fimages%2Fb4323608-f51d-48ea-b47d-45aa2e25fe29.jpg&w=3840&q=100', 'https://careers.baemin.vn/_next/image?url=https%3A%2F%2Fsuper-static-assets.s3.amazonaws.com%2F88dba7bf-3524-417b-9061-71195daca56f%2Fimages%2F77f0110d-12fc-488d-8457-aebae37dc7ad.jpg&w=3840&q=100', 'https://careers.baemin.vn/_next/image?url=https%3A%2F%2Fsuper-static-assets.s3.amazonaws.com%2F88dba7bf-3524-417b-9061-71195daca56f%2Fimages%2F690fbd4a-2db0-478e-b1a9-e2e3da8ba97e.jpg&w=3840&q=100', 'https://careers.baemin.vn/_next/image?url=https%3A%2F%2Fsuper-static-assets.s3.amazonaws.com%2F88dba7bf-3524-417b-9061-71195daca56f%2Fimages%2F13ec434e-24dc-4d5f-9b19-7c21e77d0412.jpg&w=3840&q=100', 'https://careers.baemin.vn/_next/image?url=https%3A%2F%2Fsuper-static-assets.s3.amazonaws.com%2F88dba7bf-3524-417b-9061-71195daca56f%2Fimages%2Fa79d16af-1261-4207-bf98-908ed3aafb64.jpg&w=3840&q=100', 'https://careers.baemin.vn/_next/image?url=https%3A%2F%2Fsuper-static-assets.s3.amazonaws.com%2F88dba7bf-3524-417b-9061-71195daca56f%2Fimages%2F07956a56-a6f5-4595-83b4-b156959e9837.png&w=3840&q=100', 'https://careers.baemin.vndata:image/svg+xml;base64,PHN2ZyB3aWR0aD0iNzAwIiBoZWlnaHQ9IjcwMCIgeG1sbnM9Imh0dHA6Ly93d3cudzMub3JnLzIwMDAvc3ZnIiB2ZXJzaW9uPSIxLjEiLz4=', 'https://careers.baemin.vn/_next/image?url=https%3A%2F%2Fsuper-static-assets.s3.amazonaws.com%2F88dba7bf-3524-417b-9061-71195daca56f%2Fimages%2Ff9887c7b-6eb3-48bc-a48e-dea3361c3f4c.png&w=1920&q=100', 'https://careers.baemin.vn/_next/image?url=https%3A%2F%2Fsuper-static-assets.s3.amazonaws.com%2F88dba7bf-3524-417b-9061-71195daca56f%2Fimages%2F07956a56-a6f5-4595-83b4-b156959e9837.png&w=3840&q=100', 'https://careers.baemin.vndata:image/svg+xml;base64,PHN2ZyB3aWR0aD0iNTI4IiBoZWlnaHQ9IjUyOCIgeG1sbnM9Imh0dHA6Ly93d3cudzMub3JnLzIwMDAvc3ZnIiB2ZXJzaW9uPSIxLjEiLz4=', 'https://careers.baemin.vn/_next/image?url=https%3A%2F%2Fsuper-static-assets.s3.amazonaws.com%2F88dba7bf-3524-417b-9061-71195daca56f%2Fimages%2F0089bc6e-e45c-4117-be37-51bf07f16a45.png&w=1080&q=100', 'https://careers.baemin.vnhttps://super-static-assets.s3.amazonaws.com/88dba7bf-3524-417b-9061-71195daca56f/images/07956a56-a6f5-4595-83b4-b156959e9837.png', 'https://careers.baemin.vndata:image/gif;base64,R0lGODlhAQABAIAAAAAAAP///yH5BAEAAAAALAAAAAABAAEAAAIBRAA7', 'https://careers.baemin.vnhttps://super-static-assets.s3.amazonaws.com/88dba7bf-3524-417b-9061-71195daca56f/images/630933f4-6061-460e-8d2c-7b3a2349023d.png', 'https://careers.baemin.vndata:image/gif;base64,R0lGODlhAQABAIAAAAAAAP///yH5BAEAAAAALAAAAAABAAEAAAIBRAA7', 'https://careers.baemin.vnhttps://super-static-assets.s3.amazonaws.com/88dba7bf-3524-417b-9061-71195daca56f/images/07956a56-a6f5-4595-83b4-b156959e9837.png', 'https://careers.baemin.vndata:image/gif;base64,R0lGODlhAQABAIAAAAAAAP///yH5BAEAAAAALAAAAAABAAEAAAIBRAA7', 'https://careers.baemin.vndata:image/svg+xml;base64,PHN2ZyB3aWR0aD0iNjcyIiBoZWlnaHQ9IjQzOS4zODQ2MTUzODQ2MTU0IiB4bWxucz0iaHR0cDovL3d3dy53My5vcmcvMjAwMC9zdmciIHZlcnNpb249IjEuMSIvPg==', 'https://careers.baemin.vnhttps://super-static-assets.s3.amazonaws.com/88dba7bf-3524-417b-9061-71195daca56f/images/6ec14e4b-8302-4d34-b5a2-ae03c1e64192.png', 'https://careers.baemin.vndata:image/gif;base64,R0lGODlhAQABAIAAAAAAAP///yH5BAEAAAAALAAAAAABAAEAAAIBRAA7', 'https://careers.baemin.vnhttps://super-static-assets.s3.amazonaws.com/88dba7bf-3524-417b-9061-71195daca56f/images/5a55c370-1119-4526-92e5-771ed637ac95.png', 'https://careers.baemin.vndata:image/gif;base64,R0lGODlhAQABAIAAAAAAAP///yH5BAEAAAAALAAAAAABAAEAAAIBRAA7', 'https://careers.baemin.vndata:image/svg+xml;base64,PHN2ZyB3aWR0aD0iMzM2IiBoZWlnaHQ9IjM1OC40IiB4bWxucz0iaHR0cDovL3d3dy53My5vcmcvMjAwMC9zdmciIHZlcnNpb249IjEuMSIvPg==', 'https://careers.baemin.vnhttps://super-static-assets.s3.amazonaws.com/88dba7bf-3524-417b-9061-71195daca56f/images/0bea7c1b-0591-4afa-bfc5-10c62702b0f9.png', 'https://careers.baemin.vndata:image/gif;base64,R0lGODlhAQABAIAAAAAAAP///yH5BAEAAAAALAAAAAABAAEAAAIBRAA7', 'https://careers.baemin.vnhttps://super-static-assets.s3.amazonaws.com/88dba7bf-3524-417b-9061-71195daca56f/images/f2a75baf-2d95-441e-ac56-8f40953d521a.png', 'https://careers.baemin.vndata:image/gif;base64,R0lGODlhAQABAIAAAAAAAP///yH5BAEAAAAALAAAAAABAAEAAAIBRAA7', 'https://careers.baemin.vndata:image/svg+xml;base64,PHN2ZyB3aWR0aD0iMTMyIiBoZWlnaHQ9IjEzMiIgeG1sbnM9Imh0dHA6Ly93d3cudzMub3JnLzIwMDAvc3ZnIiB2ZXJzaW9uPSIxLjEiLz4=', 'https://careers.baemin.vnhttps://super-static-assets.s3.amazonaws.com/88dba7bf-3524-417b-9061-71195daca56f/images/8c0dc027-1e43-487f-8a26-e160e6b3e894.png', 'https://careers.baemin.vndata:image/gif;base64,R0lGODlhAQABAIAAAAAAAP///yH5BAEAAAAALAAAAAABAAEAAAIBRAA7', 'https://careers.baemin.vnhttps://super-static-assets.s3.amazonaws.com/88dba7bf-3524-417b-9061-71195daca56f/images/5b540775-d127-4c73-9bcf-ee7e63fc0953.png', 'https://careers.baemin.vndata:image/gif;base64,R0lGODlhAQABAIAAAAAAAP///yH5BAEAAAAALAAAAAABAAEAAAIBRAA7', 'https://careers.baemin.vnhttps://super-static-assets.s3.amazonaws.com/88dba7bf-3524-417b-9061-71195daca56f/images/c3013067-4bd4-45e2-89ca-595bd5ab9b8b.png', 'https://careers.baemin.vndata:image/gif;base64,R0lGODlhAQABAIAAAAAAAP///yH5BAEAAAAALAAAAAABAAEAAAIBRAA7', 'https://careers.baemin.vnhttps://super-static-assets.s3.amazonaws.com/88dba7bf-3524-417b-9061-71195daca56f/images/07956a56-a6f5-4595-83b4-b156959e9837.png', 'https://careers.baemin.vndata:image/gif;base64,R0lGODlhAQABAIAAAAAAAP///yH5BAEAAAAALAAAAAABAAEAAAIBRAA7', 'https://careers.baemin.vndata:image/svg+xml;base64,PHN2ZyB3aWR0aD0iMTkyIiBoZWlnaHQ9IjE5Ni4xMjAxNzE2NzM4MTk3NSIgeG1sbnM9Imh0dHA6Ly93d3cudzMub3JnLzIwMDAvc3ZnIiB2ZXJzaW9uPSIxLjEiLz4=', 'https://careers.baemin.vnhttps://super-static-assets.s3.amazonaws.com/88dba7bf-3524-417b-9061-71195daca56f/images/626a8454-6558-4939-9525-27678cc90252.png', 'https://careers.baemin.vndata:image/gif;base64,R0lGODlhAQABAIAAAAAAAP///yH5BAEAAAAALAAAAAABAAEAAAIBRAA7', 'https://careers.baemin.vndata:image/svg+xml;base64,PHN2ZyB3aWR0aD0iMjg4IiBoZWlnaHQ9IjE2OS4wNDM0NzgyNjA4Njk2IiB4bWxucz0iaHR0cDovL3d3dy53My5vcmcvMjAwMC9zdmciIHZlcnNpb249IjEuMSIvPg==', 'https://careers.baemin.vnhttps://super-static-assets.s3.amazonaws.com/88dba7bf-3524-417b-9061-71195daca56f/images/a791a907-56ef-4cc1-b65d-a729c63ea6dc.png', 'https://careers.baemin.vndata:image/gif;base64,R0lGODlhAQABAIAAAAAAAP///yH5BAEAAAAALAAAAAABAAEAAAIBRAA7', 'https://careers.baemin.vndata:image/svg+xml;base64,PHN2ZyB3aWR0aD0iMjQwIiBoZWlnaHQ9IjE5OS4zMzU1NDgxNzI3NTc0OCIgeG1sbnM9Imh0dHA6Ly93d3cudzMub3JnLzIwMDAvc3ZnIiB2ZXJzaW9uPSIxLjEiLz4=', 'https://careers.baemin.vnhttps://super-static-assets.s3.amazonaws.com/88dba7bf-3524-417b-9061-71195daca56f/images/26e5bbdd-e539-4fc7-8c78-2b58dd3ad757.png', 'https://careers.baemin.vndata:image/gif;base64,R0lGODlhAQABAIAAAAAAAP///yH5BAEAAAAALAAAAAABAAEAAAIBRAA7', 'https://careers.baemin.vndata:image/svg+xml;base64,PHN2ZyB3aWR0aD0iMTkyIiBoZWlnaHQ9IjE4Mi40MzY3ODE2MDkxOTU0IiB4bWxucz0iaHR0cDovL3d3dy53My5vcmcvMjAwMC9zdmciIHZlcnNpb249IjEuMSIvPg==', 'https://careers.baemin.vnhttps://super-static-assets.s3.amazonaws.com/88dba7bf-3524-417b-9061-71195daca56f/images/ff93c8cb-396d-4f49-8cab-e267fd9aecd5.png', 'https://careers.baemin.vndata:image/gif;base64,R0lGODlhAQABAIAAAAAAAP///yH5BAEAAAAALAAAAAABAAEAAAIBRAA7', 'https://careers.baemin.vndata:image/svg+xml;base64,PHN2ZyB3aWR0aD0iMjg4IiBoZWlnaHQ9IjI0MCIgeG1sbnM9Imh0dHA6Ly93d3cudzMub3JnLzIwMDAvc3ZnIiB2ZXJzaW9uPSIxLjEiLz4=', 'https://careers.baemin.vnhttps://super-static-assets.s3.amazonaws.com/88dba7bf-3524-417b-9061-71195daca56f/images/c422aa29-7656-4839-88fe-f2cba1dc8c6a.png', 'https://careers.baemin.vndata:image/gif;base64,R0lGODlhAQABAIAAAAAAAP///yH5BAEAAAAALAAAAAABAAEAAAIBRAA7', 'https://careers.baemin.vnhttps://super-static-assets.s3.amazonaws.com/88dba7bf-3524-417b-9061-71195daca56f/images/07956a56-a6f5-4595-83b4-b156959e9837.png', 'https://careers.baemin.vndata:image/gif;base64,R0lGODlhAQABAIAAAAAAAP///yH5BAEAAAAALAAAAAABAAEAAAIBRAA7', 'https://careers.baemin.vnhttps://super-static-assets.s3.amazonaws.com/88dba7bf-3524-417b-9061-71195daca56f/images/05a9bbe6-5d50-46be-9732-22a706252680.png', 'https://careers.baemin.vndata:image/gif;base64,R0lGODlhAQABAIAAAAAAAP///yH5BAEAAAAALAAAAAABAAEAAAIBRAA7', 'https://careers.baemin.vnhttps://super-static-assets.s3.amazonaws.com/88dba7bf-3524-417b-9061-71195daca56f/images/37313051-949a-4ffb-a6a1-cabf22822440.jpg', 'https://careers.baemin.vndata:image/gif;base64,R0lGODlhAQABAIAAAAAAAP///yH5BAEAAAAALAAAAAABAAEAAAIBRAA7', 'https://careers.baemin.vnhttps://super-static-assets.s3.amazonaws.com/88dba7bf-3524-417b-9061-71195daca56f/images/74bab2d4-77e0-4f58-a192-6c3f05253326.jpg', 'https://careers.baemin.vndata:image/gif;base64,R0lGODlhAQABAIAAAAAAAP///yH5BAEAAAAALAAAAAABAAEAAAIBRAA7', 'https://careers.baemin.vndata:image/svg+xml;base64,PHN2ZyB3aWR0aD0iNDMyIiBoZWlnaHQ9IjY0OC4wNTIxNjEzMTM2OTIzIiB4bWxucz0iaHR0cDovL3d3dy53My5vcmcvMjAwMC9zdmciIHZlcnNpb249IjEuMSIvPg==', 'https://careers.baemin.vnhttps://super-static-assets.s3.amazonaws.com/88dba7bf-3524-417b-9061-71195daca56f/images/61347c98-8a7d-43b7-8add-d1da22787ace.jpg', 'https://careers.baemin.vndata:image/gif;base64,R0lGODlhAQABAIAAAAAAAP///yH5BAEAAAAALAAAAAABAAEAAAIBRAA7', 'https://careers.baemin.vnhttps://super-static-assets.s3.amazonaws.com/88dba7bf-3524-417b-9061-71195daca56f/images/98221f27-c70f-4fd3-9e3f-81df66014b77.jpg', 'https://careers.baemin.vndata:image/gif;base64,R0lGODlhAQABAIAAAAAAAP///yH5BAEAAAAALAAAAAABAAEAAAIBRAA7', 'https://careers.baemin.vnhttps://super-static-assets.s3.amazonaws.com/88dba7bf-3524-417b-9061-71195daca56f/images/8397e9f7-6f68-4d38-983b-e2c39d1aec82.png', 'https://careers.baemin.vndata:image/gif;base64,R0lGODlhAQABAIAAAAAAAP///yH5BAEAAAAALAAAAAABAAEAAAIBRAA7', 'https://careers.baemin.vnhttps://super-static-assets.s3.amazonaws.com/88dba7bf-3524-417b-9061-71195daca56f/images/429e9485-538e-44a5-9335-07c26a3bc529.jpg', 'https://careers.baemin.vndata:image/gif;base64,R0lGODlhAQABAIAAAAAAAP///yH5BAEAAAAALAAAAAABAAEAAAIBRAA7', 'https://careers.baemin.vndata:image/svg+xml;base64,PHN2ZyB3aWR0aD0iNDgwIiBoZWlnaHQ9IjMyMCIgeG1sbnM9Imh0dHA6Ly93d3cudzMub3JnLzIwMDAvc3ZnIiB2ZXJzaW9uPSIxLjEiLz4=', 'https://careers.baemin.vnhttps://super-static-assets.s3.amazonaws.com/88dba7bf-3524-417b-9061-71195daca56f/images/95db3fd3-ad71-478d-966e-bb4e93745ece.jpg', 'https://careers.baemin.vndata:image/gif;base64,R0lGODlhAQABAIAAAAAAAP///yH5BAEAAAAALAAAAAABAAEAAAIBRAA7', 'https://careers.baemin.vnhttps://super-static-assets.s3.amazonaws.com/88dba7bf-3524-417b-9061-71195daca56f/images/8d728e3d-8b6e-4cac-b6b4-17e8da29ef9a.jpg', 'https://careers.baemin.vndata:image/gif;base64,R0lGODlhAQABAIAAAAAAAP///yH5BAEAAAAALAAAAAABAAEAAAIBRAA7', 'https://careers.baemin.vndata:image/svg+xml;base64,PHN2ZyB3aWR0aD0iNDMyIiBoZWlnaHQ9IjI4Ny4yMTM2NTE4NzcxMzMxNSIgeG1sbnM9Imh0dHA6Ly93d3cudzMub3JnLzIwMDAvc3ZnIiB2ZXJzaW9uPSIxLjEiLz4=', 'https://careers.baemin.vnhttps://super-static-assets.s3.amazonaws.com/88dba7bf-3524-417b-9061-71195daca56f/images/a7a19554-bcf5-4a63-b526-a755e71b0857.jpg', 'https://careers.baemin.vndata:image/gif;base64,R0lGODlhAQABAIAAAAAAAP///yH5BAEAAAAALAAAAAABAAEAAAIBRAA7', 'https://careers.baemin.vnhttps://super-static-assets.s3.amazonaws.com/88dba7bf-3524-417b-9061-71195daca56f/images/07956a56-a6f5-4595-83b4-b156959e9837.png', 'https://careers.baemin.vndata:image/gif;base64,R0lGODlhAQABAIAAAAAAAP///yH5BAEAAAAALAAAAAABAAEAAAIBRAA7', 'https://careers.baemin.vndata:image/svg+xml;base64,PHN2ZyB3aWR0aD0iMTQ0IiBoZWlnaHQ9IjE1OS42NTIxNzM5MTMwNDM1IiB4bWxucz0iaHR0cDovL3d3dy53My5vcmcvMjAwMC9zdmciIHZlcnNpb249IjEuMSIvPg==', 'https://careers.baemin.vnhttps://super-static-assets.s3.amazonaws.com/88dba7bf-3524-417b-9061-71195daca56f/images/d3be872e-c064-44a2-b35a-af793238c95f.png', 'https://careers.baemin.vndata:image/gif;base64,R0lGODlhAQABAIAAAAAAAP///yH5BAEAAAAALAAAAAABAAEAAAIBRAA7', 'https://careers.baemin.vnhttps://super-static-assets.s3.amazonaws.com/88dba7bf-3524-417b-9061-71195daca56f/images/07956a56-a6f5-4595-83b4-b156959e9837.png', 'https://careers.baemin.vndata:image/gif;base64,R0lGODlhAQABAIAAAAAAAP///yH5BAEAAAAALAAAAAABAAEAAAIBRAA7', 'https://careers.baemin.vnhttps://super-static-assets.s3.amazonaws.com/88dba7bf-3524-417b-9061-71195daca56f/images/07956a56-a6f5-4595-83b4-b156959e9837.png', 'https://careers.baemin.vndata:image/gif;base64,R0lGODlhAQABAIAAAAAAAP///yH5BAEAAAAALAAAAAABAAEAAAIBRAA7', 'https://careers.baemin.vnhttps://super-static-assets.s3.amazonaws.com/88dba7bf-3524-417b-9061-71195daca56f/images/07956a56-a6f5-4595-83b4-b156959e9837.png', 'https://careers.baemin.vndata:image/gif;base64,R0lGODlhAQABAIAAAAAAAP///yH5BAEAAAAALAAAAAABAAEAAAIBRAA7', 'https://careers.baemin.vnhttps://super-static-assets.s3.amazonaws.com/88dba7bf-3524-417b-9061-71195daca56f/images/2e644607-76b2-4089-b5ea-1d34fe44bf6f.png', 'https://careers.baemin.vndata:image/gif;base64,R0lGODlhAQABAIAAAAAAAP///yH5BAEAAAAALAAAAAABAAEAAAIBRAA7', 'https://careers.baemin.vnhttps://super-static-assets.s3.amazonaws.com/88dba7bf-3524-417b-9061-71195daca56f/images/07956a56-a6f5-4595-83b4-b156959e9837.png', 'https://careers.baemin.vndata:image/gif;base64,R0lGODlhAQABAIAAAAAAAP///yH5BAEAAAAALAAAAAABAAEAAAIBRAA7', 'https://careers.baemin.vndata:image/svg+xml;base64,PHN2ZyB3aWR0aD0iMTkyIiBoZWlnaHQ9IjU2Ljc3NDE5MzU0ODM4NzEiIHhtbG5zPSJodHRwOi8vd3d3LnczLm9yZy8yMDAwL3N2ZyIgdmVyc2lvbj0iMS4xIi8+', 'https://careers.baemin.vnhttps://super-static-assets.s3.amazonaws.com/88dba7bf-3524-417b-9061-71195daca56f/images/e7399fb7-adc5-46df-9321-2ca2a99def5d.png', 'https://careers.baemin.vndata:image/gif;base64,R0lGODlhAQABAIAAAAAAAP///yH5BAEAAAAALAAAAAABAAEAAAIBRAA7', 'https://careers.baemin.vndata:image/svg+xml;base64,PHN2ZyB3aWR0aD0iMTQ0IiBoZWlnaHQ9IjQyLjE5NjcyMTMxMTQ3NTQxNCIgeG1sbnM9Imh0dHA6Ly93d3cudzMub3JnLzIwMDAvc3ZnIiB2ZXJzaW9uPSIxLjEiLz4=', 'https://careers.baemin.vnhttps://super-static-assets.s3.amazonaws.com/88dba7bf-3524-417b-9061-71195daca56f/images/3a596bab-cccc-4017-9694-fa9c0d90d9d5.png', 'https://careers.baemin.vndata:image/gif;base64,R0lGODlhAQABAIAAAAAAAP///yH5BAEAAAAALAAAAAABAAEAAAIBRAA7', 'https://careers.baemin.vndata:image/svg+xml;base64,PHN2ZyB3aWR0aD0iNDgiIGhlaWdodD0iNDgiIHhtbG5zPSJodHRwOi8vd3d3LnczLm9yZy8yMDAwL3N2ZyIgdmVyc2lvbj0iMS4xIi8+', 'https://careers.baemin.vnhttps://super-static-assets.s3.amazonaws.com/88dba7bf-3524-417b-9061-71195daca56f/images/fe996456-18ad-46a5-b746-c8b7e1162226.png', 'https://careers.baemin.vndata:image/gif;base64,R0lGODlhAQABAIAAAAAAAP///yH5BAEAAAAALAAAAAABAAEAAAIBRAA7']\n"
     ]
    }
   ],
   "source": [
    "# Page 2: \n",
    "import requests\n",
    "from bs4 import BeautifulSoup\n",
    "def getdata(url):\n",
    "    r = requests.get(url)\n",
    "    return r.text\n",
    "list_02 = []\n",
    "htmldata = getdata(\"https://careers.baemin.vn/\")\n",
    "soup = BeautifulSoup(htmldata, 'html.parser')\n",
    "for item in soup.find_all('img'):\n",
    "    src = \"https://careers.baemin.vn\" + item['src']\n",
    "    list_02.append(src)\n",
    "print(list_02)\n",
    "    \n",
    "\n",
    "    "
   ]
  },
  {
   "cell_type": "code",
   "execution_count": 8,
   "metadata": {},
   "outputs": [
    {
     "data": {
      "text/html": [
       "<div>\n",
       "<style scoped>\n",
       "    .dataframe tbody tr th:only-of-type {\n",
       "        vertical-align: middle;\n",
       "    }\n",
       "\n",
       "    .dataframe tbody tr th {\n",
       "        vertical-align: top;\n",
       "    }\n",
       "\n",
       "    .dataframe thead th {\n",
       "        text-align: right;\n",
       "    }\n",
       "</style>\n",
       "<table border=\"1\" class=\"dataframe\">\n",
       "  <thead>\n",
       "    <tr style=\"text-align: right;\">\n",
       "      <th></th>\n",
       "      <th>homepage</th>\n",
       "    </tr>\n",
       "  </thead>\n",
       "  <tbody>\n",
       "    <tr>\n",
       "      <th>0</th>\n",
       "      <td>https://baemin.vn./desktop/images/logo.svg</td>\n",
       "    </tr>\n",
       "    <tr>\n",
       "      <th>1</th>\n",
       "      <td>https://baemin.vn./desktop/images/logo-white.svg</td>\n",
       "    </tr>\n",
       "    <tr>\n",
       "      <th>2</th>\n",
       "      <td>https://baemin.vn./desktop/images/top-banner-i...</td>\n",
       "    </tr>\n",
       "    <tr>\n",
       "      <th>3</th>\n",
       "      <td>https://baemin.vn./desktop/images/top-banner-i...</td>\n",
       "    </tr>\n",
       "    <tr>\n",
       "      <th>4</th>\n",
       "      <td>https://baemin.vn./desktop/images/top-banner-i...</td>\n",
       "    </tr>\n",
       "  </tbody>\n",
       "</table>\n",
       "</div>"
      ],
      "text/plain": [
       "                                            homepage\n",
       "0         https://baemin.vn./desktop/images/logo.svg\n",
       "1   https://baemin.vn./desktop/images/logo-white.svg\n",
       "2  https://baemin.vn./desktop/images/top-banner-i...\n",
       "3  https://baemin.vn./desktop/images/top-banner-i...\n",
       "4  https://baemin.vn./desktop/images/top-banner-i..."
      ]
     },
     "execution_count": 8,
     "metadata": {},
     "output_type": "execute_result"
    }
   ],
   "source": [
    "import pandas as pd \n",
    "# df = pandas.DataFrame(data={\"homepage\": list_01})\n",
    "# df.to_csv(\"baemin.csv\", sep=',',index=False)\n",
    "# df = pandas.DataFrame(data={\"careers\":list_02})\n",
    "# df.to_csv(\"baemin-careers.csv\", sep=',',index=False)\n",
    "df = pd.read_csv(\"baemin.csv\")\n",
    "df.head()\n",
    "# df.median()\n"
   ]
  },
  {
   "cell_type": "code",
   "execution_count": 9,
   "metadata": {},
   "outputs": [],
   "source": [
    "#imports here\n",
    "from selenium import webdriver\n",
    "from selenium.webdriver.common.keys import Keys\n",
    "from selenium.webdriver.support import expected_conditions as EC\n",
    "from selenium.webdriver.common.by import By\n",
    "from selenium.webdriver.support.wait import WebDriverWait\n",
    "import time\n",
    "#specify the path to chromedriver.exe (download and save on your computer)\n",
    "driver = webdriver.Chrome('chromedriver.exe')\n",
    "\n",
    "#open the webpage\n",
    "\n",
    "import requests\n",
    "from bs4 import BeautifulSoup\n",
    "def getdata(url):\n",
    "    r = requests.get(url)\n",
    "    return r.text\n",
    "for i in range(len(list_01)):\n",
    "    url = list_01[i]\n",
    "    time.sleep(2)\n",
    "    driver.get(url)\n",
    "\n"
   ]
  },
  {
   "cell_type": "code",
   "execution_count": 150,
   "metadata": {},
   "outputs": [
    {
     "data": {
      "text/html": [
       "<div>\n",
       "<style scoped>\n",
       "    .dataframe tbody tr th:only-of-type {\n",
       "        vertical-align: middle;\n",
       "    }\n",
       "\n",
       "    .dataframe tbody tr th {\n",
       "        vertical-align: top;\n",
       "    }\n",
       "\n",
       "    .dataframe thead th {\n",
       "        text-align: right;\n",
       "    }\n",
       "</style>\n",
       "<table border=\"1\" class=\"dataframe\">\n",
       "  <thead>\n",
       "    <tr style=\"text-align: right;\">\n",
       "      <th></th>\n",
       "      <th>careers</th>\n",
       "    </tr>\n",
       "  </thead>\n",
       "  <tbody>\n",
       "    <tr>\n",
       "      <th>0</th>\n",
       "      <td>https://careers.baemin.vn/_next/image?url=http...</td>\n",
       "    </tr>\n",
       "    <tr>\n",
       "      <th>1</th>\n",
       "      <td>https://careers.baemin.vn/_next/image?url=http...</td>\n",
       "    </tr>\n",
       "    <tr>\n",
       "      <th>2</th>\n",
       "      <td>https://careers.baemin.vn/_next/image?url=http...</td>\n",
       "    </tr>\n",
       "    <tr>\n",
       "      <th>3</th>\n",
       "      <td>https://careers.baemin.vn/_next/image?url=http...</td>\n",
       "    </tr>\n",
       "    <tr>\n",
       "      <th>4</th>\n",
       "      <td>https://careers.baemin.vn/_next/image?url=http...</td>\n",
       "    </tr>\n",
       "    <tr>\n",
       "      <th>...</th>\n",
       "      <td>...</td>\n",
       "    </tr>\n",
       "    <tr>\n",
       "      <th>114</th>\n",
       "      <td>https://careers.baemin.vnhttps://super-static-...</td>\n",
       "    </tr>\n",
       "    <tr>\n",
       "      <th>115</th>\n",
       "      <td>https://careers.baemin.vndata:image/gif;base64...</td>\n",
       "    </tr>\n",
       "    <tr>\n",
       "      <th>116</th>\n",
       "      <td>https://careers.baemin.vndata:image/svg+xml;ba...</td>\n",
       "    </tr>\n",
       "    <tr>\n",
       "      <th>117</th>\n",
       "      <td>https://careers.baemin.vnhttps://super-static-...</td>\n",
       "    </tr>\n",
       "    <tr>\n",
       "      <th>118</th>\n",
       "      <td>https://careers.baemin.vndata:image/gif;base64...</td>\n",
       "    </tr>\n",
       "  </tbody>\n",
       "</table>\n",
       "<p>119 rows × 1 columns</p>\n",
       "</div>"
      ],
      "text/plain": [
       "                                               careers\n",
       "0    https://careers.baemin.vn/_next/image?url=http...\n",
       "1    https://careers.baemin.vn/_next/image?url=http...\n",
       "2    https://careers.baemin.vn/_next/image?url=http...\n",
       "3    https://careers.baemin.vn/_next/image?url=http...\n",
       "4    https://careers.baemin.vn/_next/image?url=http...\n",
       "..                                                 ...\n",
       "114  https://careers.baemin.vnhttps://super-static-...\n",
       "115  https://careers.baemin.vndata:image/gif;base64...\n",
       "116  https://careers.baemin.vndata:image/svg+xml;ba...\n",
       "117  https://careers.baemin.vnhttps://super-static-...\n",
       "118  https://careers.baemin.vndata:image/gif;base64...\n",
       "\n",
       "[119 rows x 1 columns]"
      ]
     },
     "execution_count": 150,
     "metadata": {},
     "output_type": "execute_result"
    }
   ],
   "source": [
    "df_01 = pd.read_csv(\"baemin-careers.csv\")\n",
    "df_01"
   ]
  },
  {
   "cell_type": "code",
   "execution_count": 1,
   "metadata": {},
   "outputs": [],
   "source": [
    "# from selenium import webdriver\n",
    "# from selenium.webdriver.common.keys import Keys\n",
    "# from selenium.webdriver.support import expected_conditions as EC\n",
    "# from selenium.webdriver.common.by import By\n",
    "# from selenium.webdriver.support.wait import WebDriverWait\n",
    "# import time\n",
    "# #specify the path to chromedriver.exe (download and save on your computer)\n",
    "# driver = webdriver.Chrome('chromedriver.exe')\n",
    "\n",
    "# #open the webpage\n",
    "\n",
    "# import requests\n",
    "# from bs4 import BeautifulSoup\n",
    "\n",
    "# def getdata(url):\n",
    "#     r = requests.get(url)\n",
    "#     return r.text\n",
    "# for i in range(len(list_02)):\n",
    "#     url = list_02[i]\n",
    "#     time.sleep(2)\n",
    "#     driver.get(url)\n"
   ]
  },
  {
   "cell_type": "code",
   "execution_count": 151,
   "metadata": {},
   "outputs": [],
   "source": [
    "# Bài 7:\n",
    "def fib(n):\n",
    "    if n ==0:\n",
    "        return 0\n",
    "    elif n ==1:\n",
    "        return 1\n",
    "    else:\n",
    "        return fib(n-1) + fib(n-2)\n"
   ]
  },
  {
   "cell_type": "code",
   "execution_count": 152,
   "metadata": {},
   "outputs": [
    {
     "data": {
      "text/plain": [
       "102334155"
      ]
     },
     "execution_count": 152,
     "metadata": {},
     "output_type": "execute_result"
    }
   ],
   "source": [
    "def memoFib(n,memo = {}):\n",
    "    if n == 0:\n",
    "        return 0\n",
    "    elif n == 1:\n",
    "        return 1\n",
    "    else: \n",
    "        if n in memo:\n",
    "            return memo[n]\n",
    "        else: \n",
    "            result = memoFib(n-1) + memoFib(n-2)\n",
    "            memo[n] = result\n",
    "    return memo[n]\n",
    "\n",
    "#Testcase:\n",
    "\n",
    "memoFib(40)\n",
    "\n"
   ]
  },
  {
   "cell_type": "code",
   "execution_count": 153,
   "metadata": {},
   "outputs": [
    {
     "name": "stdout",
     "output_type": "stream",
     "text": [
      "0.0027413368225097656\n"
     ]
    }
   ],
   "source": [
    "\n",
    "# %%time\n",
    "\n",
    "# memoFib(2000)\n",
    "# import thư viện time\n",
    "import time\n",
    "\n",
    "# Kiểm tra thời gian bắt đầu\n",
    "start_time = time.time()\n",
    "\n",
    "memoFib(2000)\n",
    "# Kiểm tra thời gian kết thúc\n",
    "end_time = time.time()\n",
    "\n",
    "# Tính thời gian chênh lệch\n",
    "time_taken_in_micro = (end_time - start_time)\n",
    "\n",
    "# In kết quả\n",
    "print (time_taken_in_micro)"
   ]
  },
  {
   "cell_type": "code",
   "execution_count": null,
   "metadata": {},
   "outputs": [],
   "source": [
    "# %%time\n",
    "# fib(2000)\n",
    "# memoFib(2000)\n",
    "# import thư viện time\n",
    "import time\n",
    "\n",
    "# Kiểm tra thời gian bắt đầu\n",
    "start_time = time.time()\n",
    "\n",
    "fib(2000)\n",
    "# Kiểm tra thời gian kết thúc\n",
    "end_time = time.time()\n",
    "\n",
    "# Tính thời gian chênh lệch\n",
    "time_taken_in_micro = (end_time - start_time)\n",
    "\n",
    "# In kết quả\n",
    "print (time_taken_in_micro)"
   ]
  },
  {
   "cell_type": "code",
   "execution_count": null,
   "metadata": {},
   "outputs": [],
   "source": [
    "# Bài 8"
   ]
  },
  {
   "cell_type": "code",
   "execution_count": null,
   "metadata": {},
   "outputs": [],
   "source": [
    "# Tìm hiểu giải thuật Djikstra và trình bày lại. Cho ví dụ cụ thể và trình bày (không cần code\n",
    "# chỉ cần show ý tưởng và làm tay được)\n",
    "\n",
    "# Thuật toán Dijkstra về cơ bản bắt đầu tại nút mà bạn chọn (nút nguồn) và nó phân tích đồ thị để tìm đường đi ngắn nhất giữa nút đó và tất cả các nút khác trong đồ thị.\n",
    "# Thuật toán theo dõi khoảng cách ngắn nhất hiện đã biết từ mỗi nút đến nút nguồn và nó cập nhật các giá trị này nếu nó tìm thấy một đường đi ngắn hơn.\n",
    "# Khi thuật toán đã tìm ra đường đi ngắn nhất giữa nút nguồn và nút khác, nút đó được đánh dấu là \"đã thăm\" và được thêm vào đường dẫn.\n",
    "# Quá trình tiếp tục cho đến khi tất cả các nút trong biểu đồ đã được thêm vào đường dẫn. Bằng cách này, chúng ta có một đường dẫn kết nối nút nguồn với tất cả các nút khác theo con đường ngắn nhất có thể để đến mỗi nút."
   ]
  },
  {
   "cell_type": "code",
   "execution_count": null,
   "metadata": {},
   "outputs": [],
   "source": []
  },
  {
   "cell_type": "code",
   "execution_count": null,
   "metadata": {},
   "outputs": [],
   "source": [
    "# Bài 9\n",
    "\n",
    "# Bước 1 : Đăng nhập facebook\n",
    "    \n",
    "# Bước 2: Tìm fanpage PTITHCMConfession\n",
    "    \n",
    "# Bước 3: Crawl bài viết \n",
    "    \n",
    "# Bước 4: Làm sạch nội dung bài viết\n",
    "    \n",
    "# Bước 5: Tạo từ điển chứa những từ tiêu cực và tích cực\n",
    "    \n",
    "# Bước 6: Phân tích, thống kê và so sánh tần suất xuất hiện các từ trong bài viết\n",
    "    \n",
    "# Bước 7: Đưa ra kết luận dựa vào kết quả so sánh.\n",
    "\n"
   ]
  },
  {
   "cell_type": "code",
   "execution_count": null,
   "metadata": {},
   "outputs": [],
   "source": [
    "#Bài 9  \n",
    "# Bước 1:\n",
    "#     - Sử dụng một số thư viện chính như urllib, requests, regex chủ yếu crawl từ HTML Session, xác thực cookies\n",
    "#     - Xác thực user khi crawl \n",
    "#     - Viết một số hàm như:\n",
    "#         + Lấy ID bài viết\n",
    "#         + Hàm lấy text\n",
    "#         + Hàm thời gian share bài viết\n",
    "#         + Hàm lấy link ảnh kèm theo bài viết\n",
    "#         + Hàm trả về số like của bài viết\n",
    "#         + Hàm trả về số comment của bài viết \n",
    "#         + Hàm trả về link bài viết\n",
    "#         + Hàm trả về link đính kèm bài viết\n",
    "# Bước 2:\n",
    "#     - Lấy dữ liệu trả về file json\n",
    "#     - Chuyển file json sang file csv \n",
    "#     - Dùng pandas,numpy để đọc và thao tác với dữ liệu \n",
    "# Bước 3:\n",
    "#     Cách phân loại text:\n",
    "#         Cách 1:\n",
    "#                 - Tạo 2 trường nhãn dữ liệu : pos và neg \n",
    "#                 - Viết hàm đếm số từ trong text có trong pos và trong neg \n",
    "#                 - So sánh kết quả: Nếu số từ trong pos > trong neg thì trả về text đó là tích cực và ngược lại\n",
    "#         Cách 2: - Kế thừa mô hình underthesea được train sẵn để thực thi đánh giá và phân loại: Mô hình underthesea là mô hình xử lý ngôn ngữ tự nhiên có lượng dữ liệu nhãn của nhiều lĩnh vực\n",
    "#                 khác nhau, và nhãn dữ liệu phân loại tiêu cực và tính cực. Mặc dù tính chính xác so với dữ liệu bài viết crawl về chưa cao.\n",
    "#                 - Cài mô hình pip install underthesea\n",
    "#                 - Sử dụng các tính năng sentiment, classify của mô hình\n",
    "\n",
    "\n",
    "        \n",
    "            \n",
    "    \n",
    "    \n",
    "    \n",
    "\n",
    "    \n",
    "    \n",
    "    \n",
    "    \n",
    "    \n",
    "    \n",
    "    \n"
   ]
  },
  {
   "cell_type": "code",
   "execution_count": 70,
   "metadata": {},
   "outputs": [],
   "source": [
    "# Bài 10: Việt - Anh\n",
    "def translate(text,dict):\n",
    "    txt = text.split()\n",
    "    dict_01 = {\"\":\"xxx\"}\n",
    "    dict.update(dict_01)\n",
    "    for index,key in enumerate(dict):\n",
    "        for i in range(len(dict)):\n",
    "            if index == i:\n",
    "                val = dict.get(key)\n",
    "                if txt[i] == val  :\n",
    "                    print(key)\n",
    "                else:\n",
    "                    print(\"xxx\")\n"
   ]
  },
  {
   "cell_type": "code",
   "execution_count": 71,
   "metadata": {},
   "outputs": [
    {
     "name": "stdout",
     "output_type": "stream",
     "text": [
      "I\n",
      "love\n",
      "you\n",
      "and\n",
      "xxx\n"
     ]
    }
   ],
   "source": [
    "dict = {\"I\":\"Tôi\",\"love\":\"yêu\",\"you\":\"em\",\"and\":\"và\"}\n",
    "text = \"Tôi yêu em và mèo\"\n",
    "translate(text,dict)"
   ]
  },
  {
   "cell_type": "code",
   "execution_count": 74,
   "metadata": {},
   "outputs": [],
   "source": [
    "# Anh - Việt \n",
    "def translate(text,dict):\n",
    "    dict_01 = {\"\":\"xxx\"}\n",
    "    dict.update(dict_01)\n",
    "    z = text.split()\n",
    "    for i in range(len(z)):\n",
    "        if z[i] in dict.keys():\n",
    "            print(dict.get(z[i]))\n",
    "        else:\n",
    "            z[i] = \"\"\n",
    "            print(dict.get(z[i]))\n",
    "\n"
   ]
  },
  {
   "cell_type": "code",
   "execution_count": 75,
   "metadata": {},
   "outputs": [
    {
     "name": "stdout",
     "output_type": "stream",
     "text": [
      "Tôi\n",
      "yêu\n",
      "bạn\n",
      "xxx\n",
      "chó\n"
     ]
    }
   ],
   "source": [
    "\n",
    "dict = {\"I\": \"Tôi\", \"love\": \"yêu\", \"you\":\"bạn\",\"dog\": \"chó\"}\n",
    "text = \"I love you and dog \"\n",
    "translate(text,dict)"
   ]
  },
  {
   "cell_type": "code",
   "execution_count": 116,
   "metadata": {},
   "outputs": [],
   "source": []
  },
  {
   "cell_type": "code",
   "execution_count": 117,
   "metadata": {},
   "outputs": [],
   "source": []
  },
  {
   "cell_type": "code",
   "execution_count": null,
   "metadata": {},
   "outputs": [],
   "source": []
  },
  {
   "cell_type": "code",
   "execution_count": null,
   "metadata": {},
   "outputs": [],
   "source": []
  },
  {
   "cell_type": "code",
   "execution_count": null,
   "metadata": {},
   "outputs": [],
   "source": []
  },
  {
   "cell_type": "code",
   "execution_count": null,
   "metadata": {},
   "outputs": [],
   "source": []
  },
  {
   "cell_type": "code",
   "execution_count": null,
   "metadata": {},
   "outputs": [],
   "source": []
  },
  {
   "cell_type": "code",
   "execution_count": null,
   "metadata": {},
   "outputs": [],
   "source": []
  },
  {
   "cell_type": "code",
   "execution_count": null,
   "metadata": {},
   "outputs": [],
   "source": []
  },
  {
   "cell_type": "code",
   "execution_count": null,
   "metadata": {},
   "outputs": [],
   "source": [
    "\n",
    "    "
   ]
  },
  {
   "cell_type": "code",
   "execution_count": null,
   "metadata": {},
   "outputs": [],
   "source": []
  },
  {
   "cell_type": "code",
   "execution_count": null,
   "metadata": {},
   "outputs": [],
   "source": []
  }
 ],
 "metadata": {
  "kernelspec": {
   "display_name": "Python 3",
   "language": "python",
   "name": "python3"
  },
  "language_info": {
   "codemirror_mode": {
    "name": "ipython",
    "version": 3
   },
   "file_extension": ".py",
   "mimetype": "text/x-python",
   "name": "python",
   "nbconvert_exporter": "python",
   "pygments_lexer": "ipython3",
   "version": "3.8.5"
  }
 },
 "nbformat": 4,
 "nbformat_minor": 4
}
