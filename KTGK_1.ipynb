{
 "cells": [
  {
   "cell_type": "code",
   "execution_count": 1,
   "metadata": {},
   "outputs": [],
   "source": [
    "# Bài 1:\n",
    "\n",
    "string=\"abcdefghiklmnobqrstuvxyp\"\n",
    "list = []\n",
    "for i in range(len(string)):\n",
    "    list.append(string[i])\n",
    "def count(list_01):\n",
    "    count_digit = 0\n",
    "    count_char = 0\n",
    "    result = []\n",
    "    for i in range(len(list_01)):\n",
    "        if list_01[i] in list:\n",
    "            count_char = count_char + 1\n",
    "        else:\n",
    "            count_digit = count_digit + 1\n",
    "    result = [count_digit,count_char]\n",
    "    return result"
   ]
  },
  {
   "cell_type": "code",
   "execution_count": 2,
   "metadata": {},
   "outputs": [
    {
     "data": {
      "text/plain": [
       "[7, 5]"
      ]
     },
     "execution_count": 2,
     "metadata": {},
     "output_type": "execute_result"
    }
   ],
   "source": [
    "list_01 = [2,3,4,5,6,7,2,\"a\",\"b\",\"o\",\"p\",\"t\"]\n",
    "count(list_01)\n"
   ]
  },
  {
   "cell_type": "code",
   "execution_count": 5,
   "metadata": {},
   "outputs": [],
   "source": [
    "# Bài 2:\n",
    "def even_odd(list):  \n",
    "    list_even = []\n",
    "    list_odd = []\n",
    "    re = 0\n",
    "    ro = 0\n",
    "    count = 0\n",
    "    count1 = 0\n",
    "    for i in range(len(list)):\n",
    "        if list[i] %2 ==0:\n",
    "            re += list[i]\n",
    "            list_even.append(re)\n",
    "            count += 1\n",
    "        else: \n",
    "            ro += list[i]\n",
    "            list_odd.append(ro)\n",
    "            count1 += 1 \n",
    "    even = list_even[-1] / count\n",
    "    odd = list_odd[-1] / count1\n",
    "    list1 = [even,odd]\n",
    "    return list1\n",
    "        "
   ]
  },
  {
   "cell_type": "code",
   "execution_count": 6,
   "metadata": {},
   "outputs": [
    {
     "data": {
      "text/plain": [
       "[5.0, 3.0]"
      ]
     },
     "execution_count": 6,
     "metadata": {},
     "output_type": "execute_result"
    }
   ],
   "source": [
    "list = [2,6,4,1,5,3,8]\n",
    "even_odd(list)"
   ]
  },
  {
   "cell_type": "code",
   "execution_count": 7,
   "metadata": {},
   "outputs": [],
   "source": [
    "# Bài 3:\n",
    "def remove(text):\n",
    "    for i in range(len(text)):\n",
    "        remove = text.replace(\",\",\"\")\n",
    "        remove = remove.replace(\":\",\"\")\n",
    "    return remove"
   ]
  },
  {
   "cell_type": "code",
   "execution_count": 8,
   "metadata": {},
   "outputs": [
    {
     "data": {
      "text/plain": [
       "'I go to school that school is PTIT'"
      ]
     },
     "execution_count": 8,
     "metadata": {},
     "output_type": "execute_result"
    }
   ],
   "source": [
    "text = \"I go to school, that school is: PTIT\"\n",
    "remove(text)\n"
   ]
  },
  {
   "cell_type": "code",
   "execution_count": 9,
   "metadata": {},
   "outputs": [],
   "source": [
    "# Bài 4: Implement lại giải thuật buble sort để sắp xếp một list theo thứ tự tăng dần"
   ]
  },
  {
   "cell_type": "code",
   "execution_count": 9,
   "metadata": {},
   "outputs": [],
   "source": [
    "def bubble_sort(array):\n",
    "    n=len(array)\n",
    "    for i in range(0,n):\n",
    "        for j in range(0,n-i-1):\n",
    "            if array[j] > array[j + 1]:\n",
    "                array[j], array[j + 1] = array[j + 1], array[j] # swap\n",
    "    return array"
   ]
  },
  {
   "cell_type": "code",
   "execution_count": 10,
   "metadata": {},
   "outputs": [
    {
     "data": {
      "text/plain": [
       "[1, 2, 3, 5, 6, 9, 9, 10]"
      ]
     },
     "execution_count": 10,
     "metadata": {},
     "output_type": "execute_result"
    }
   ],
   "source": [
    "array = [1,9,5,6,9,10,2,3]\n",
    "bubble_sort(array)"
   ]
  },
  {
   "cell_type": "code",
   "execution_count": 11,
   "metadata": {},
   "outputs": [],
   "source": [
    "def bubble_sort(array):\n",
    "    n=len(array)\n",
    "    for i in range(0,n):\n",
    "        for j in range(0,n-i-1):\n",
    "            if array[j] < array[j + 1]:\n",
    "                array[j], array[j + 1] = array[j + 1], array[j] # swap\n",
    "    return array"
   ]
  },
  {
   "cell_type": "code",
   "execution_count": 12,
   "metadata": {},
   "outputs": [
    {
     "data": {
      "text/plain": [
       "[10, 9, 9, 6, 5, 3, 2, 1]"
      ]
     },
     "execution_count": 12,
     "metadata": {},
     "output_type": "execute_result"
    }
   ],
   "source": [
    "array = [1,9,5,6,9,10,2,3]\n",
    "bubble_sort(array)"
   ]
  },
  {
   "cell_type": "code",
   "execution_count": 1,
   "metadata": {},
   "outputs": [
    {
     "data": {
      "text/plain": [
       "{'a': 5, 'b': 14, 'c': 8, 'e': 12}"
      ]
     },
     "execution_count": 1,
     "metadata": {},
     "output_type": "execute_result"
    }
   ],
   "source": [
    "# Bài 5:\n",
    "values_01 = []\n",
    "keys_01 = []\n",
    "values_02 = []\n",
    "keys_02 = []\n",
    "dict1 = {\"a\":5,\"b\":6,\"c\":8}\n",
    "dict2 = {\"b\": 8, \"e\": 12}\n",
    "for i in dict1.values():\n",
    "    values_01.append(i)\n",
    "for i in dict1.keys():\n",
    "    keys_01.append(i)\n",
    "for i in dict2.values():\n",
    "    values_02.append(i)\n",
    "for i in dict2.keys():\n",
    "    keys_02.append(i)\n",
    "for i in range(len(keys_01)):\n",
    "    for j in range(len(keys_02)):\n",
    "        if keys_01[i] == keys_02[j]:\n",
    "            values_01[i] = values_01[i] + values_02[j]   \n",
    "        else:\n",
    "            values_01[i] = values_01[i]\n",
    "            values_02[j] = values_02[j]\n",
    "                \n",
    "dict03 = dict(zip(keys_01, values_01))\n",
    "dict02 = dict(zip(keys_02,values_02))\n",
    "dict = dict(dict03, **dict02)\n",
    "dict.update(dict03)\n",
    "dict"
   ]
  },
  {
   "cell_type": "code",
   "execution_count": null,
   "metadata": {},
   "outputs": [],
   "source": []
  },
  {
   "cell_type": "code",
   "execution_count": null,
   "metadata": {},
   "outputs": [],
   "source": []
  }
 ],
 "metadata": {
  "kernelspec": {
   "display_name": "Python 3",
   "language": "python",
   "name": "python3"
  },
  "language_info": {
   "codemirror_mode": {
    "name": "ipython",
    "version": 3
   },
   "file_extension": ".py",
   "mimetype": "text/x-python",
   "name": "python",
   "nbconvert_exporter": "python",
   "pygments_lexer": "ipython3",
   "version": "3.8.5"
  }
 },
 "nbformat": 4,
 "nbformat_minor": 4
}
